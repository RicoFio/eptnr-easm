{
 "cells": [
  {
   "cell_type": "code",
   "execution_count": 8,
   "metadata": {
    "collapsed": false,
    "jupyter": {
     "outputs_hidden": false
    },
    "pycharm": {
     "name": "#%%\n"
    }
   },
   "outputs": [],
   "source": [
    "import geopandas as gpd"
   ]
  },
  {
   "cell_type": "code",
   "execution_count": 9,
   "outputs": [],
   "source": [
    "in_file = './ams_census_and_neighborhood_data_2021.parquet'\n",
    "out_file = './amsterdam_census_2021.parquet'"
   ],
   "metadata": {
    "collapsed": false,
    "pycharm": {
     "name": "#%%\n"
    }
   }
  },
  {
   "cell_type": "code",
   "execution_count": 10,
   "metadata": {
    "collapsed": false,
    "jupyter": {
     "outputs_hidden": false
    },
    "pycharm": {
     "name": "#%%\n"
    }
   },
   "outputs": [
    {
     "data": {
      "text/plain": "        BU_CODE                    BU_NAAM  \\\n0    BU03630000                Kop Zeedijk   \n1    BU03630001             Oude Kerk e.o.   \n2    BU03630002            Burgwallen Oost   \n3    BU03630003                   Nes e.o.   \n4    BU03630004            BG-terrein e.o.   \n..          ...                        ...   \n443  BU03639701              Gein Zuidwest   \n444  BU03639702             Gein Noordoost   \n445  BU03639703              Gein Zuidoost   \n446  BU03639800              Dorp Driemond   \n447  BU03639801  Landelijk gebied Driemond   \n\n                                              geometry  \\\n0    POLYGON ((4.90096 52.37724, 4.90195 52.37724, ...   \n1    POLYGON ((4.89651 52.37575, 4.89707 52.37550, ...   \n2    POLYGON ((4.89966 52.37468, 4.90002 52.37455, ...   \n3    POLYGON ((4.89301 52.37271, 4.89331 52.37264, ...   \n4    POLYGON ((4.89613 52.37177, 4.89670 52.37157, ...   \n..                                                 ...   \n443  POLYGON ((4.98456 52.29633, 4.98508 52.29633, ...   \n444  POLYGON ((4.99197 52.30193, 4.99202 52.30192, ...   \n445  POLYGON ((5.00325 52.29639, 5.00325 52.29637, ...   \n446  POLYGON ((5.01377 52.30914, 5.01408 52.30907, ...   \n447  POLYGON ((5.01618 52.32448, 5.01621 52.32444, ...   \n\n                     centroid              res_centroid  ind_wbi  a_inw  \\\n0    POINT (4.90026 52.37593)  POINT (4.90009 52.37552)      1.0   1110   \n1    POINT (4.89614 52.37379)  POINT (4.89678 52.37375)      1.0    695   \n2    POINT (4.89874 52.37282)  POINT (4.89875 52.37283)      1.0   1645   \n3    POINT (4.89371 52.37086)  POINT (4.89423 52.37094)      1.0    365   \n4    POINT (4.89558 52.36954)  POINT (4.89588 52.36999)      1.0    690   \n..                        ...                       ...      ...    ...   \n443  POINT (4.98552 52.29461)  POINT (4.98511 52.29471)      1.0   1665   \n444  POINT (4.99734 52.29917)  POINT (4.99445 52.29913)      1.0   3245   \n445  POINT (4.99338 52.29279)  POINT (4.99021 52.29315)      1.0   3355   \n446  POINT (5.01654 52.30563)  POINT (5.01649 52.30562)      1.0   1480   \n447  POINT (5.01124 52.31478)  POINT (5.01314 52.30975)      1.0    140   \n\n     a_man  a_vrouw  a_00_14  ...  g_afs_sc  g_3km_sc  a_opp_ha  a_lan_ha  \\\n0      645      465       45  ...       0.0       0.0         8         6   \n1      390      305       20  ...       0.0       0.0         9         9   \n2      860      785       90  ...       0.0       0.0         7         6   \n3      200      165       25  ...       0.0       0.0         6         5   \n4      380      310       40  ...       0.0       0.0        10         8   \n..     ...      ...      ...  ...       ...       ...       ...       ...   \n443    800      865      310  ...       0.0       0.0        18        17   \n444   1650     1595      450  ...       0.0       0.0        65        64   \n445   1635     1715      510  ...       0.0       0.0        77        72   \n446    700      780      265  ...       0.0       0.0        35        29   \n447     75       60       45  ...       0.0       0.0       167       146   \n\n     a_wat_ha  pst_mvp  pst_dekp  ste_mvs  ste_oad  n_inh  \n0           2   1012.0       1.0      1.0   6776.0    600  \n1           0   1012.0       1.0      1.0   7430.0    365  \n2           1   1012.0       1.0      1.0   7559.0    900  \n3           0   1012.0       1.0      1.0   9947.0    185  \n4           2   1012.0       1.0      1.0   8489.0    295  \n..        ...      ...       ...      ...      ...    ...  \n443         1   1107.0       1.0      1.0   2577.0   1365  \n444         1   1106.0       1.0      2.0   1576.0   1565  \n445         6   1107.0       1.0      2.0   1868.0   2115  \n446         6   1109.0       1.0      5.0    439.0    335  \n447        21   1109.0       1.0      4.0    612.0     25  \n\n[448 rows x 119 columns]",
      "text/html": "<div>\n<style scoped>\n    .dataframe tbody tr th:only-of-type {\n        vertical-align: middle;\n    }\n\n    .dataframe tbody tr th {\n        vertical-align: top;\n    }\n\n    .dataframe thead th {\n        text-align: right;\n    }\n</style>\n<table border=\"1\" class=\"dataframe\">\n  <thead>\n    <tr style=\"text-align: right;\">\n      <th></th>\n      <th>BU_CODE</th>\n      <th>BU_NAAM</th>\n      <th>geometry</th>\n      <th>centroid</th>\n      <th>res_centroid</th>\n      <th>ind_wbi</th>\n      <th>a_inw</th>\n      <th>a_man</th>\n      <th>a_vrouw</th>\n      <th>a_00_14</th>\n      <th>...</th>\n      <th>g_afs_sc</th>\n      <th>g_3km_sc</th>\n      <th>a_opp_ha</th>\n      <th>a_lan_ha</th>\n      <th>a_wat_ha</th>\n      <th>pst_mvp</th>\n      <th>pst_dekp</th>\n      <th>ste_mvs</th>\n      <th>ste_oad</th>\n      <th>n_inh</th>\n    </tr>\n  </thead>\n  <tbody>\n    <tr>\n      <th>0</th>\n      <td>BU03630000</td>\n      <td>Kop Zeedijk</td>\n      <td>POLYGON ((4.90096 52.37724, 4.90195 52.37724, ...</td>\n      <td>POINT (4.90026 52.37593)</td>\n      <td>POINT (4.90009 52.37552)</td>\n      <td>1.0</td>\n      <td>1110</td>\n      <td>645</td>\n      <td>465</td>\n      <td>45</td>\n      <td>...</td>\n      <td>0.0</td>\n      <td>0.0</td>\n      <td>8</td>\n      <td>6</td>\n      <td>2</td>\n      <td>1012.0</td>\n      <td>1.0</td>\n      <td>1.0</td>\n      <td>6776.0</td>\n      <td>600</td>\n    </tr>\n    <tr>\n      <th>1</th>\n      <td>BU03630001</td>\n      <td>Oude Kerk e.o.</td>\n      <td>POLYGON ((4.89651 52.37575, 4.89707 52.37550, ...</td>\n      <td>POINT (4.89614 52.37379)</td>\n      <td>POINT (4.89678 52.37375)</td>\n      <td>1.0</td>\n      <td>695</td>\n      <td>390</td>\n      <td>305</td>\n      <td>20</td>\n      <td>...</td>\n      <td>0.0</td>\n      <td>0.0</td>\n      <td>9</td>\n      <td>9</td>\n      <td>0</td>\n      <td>1012.0</td>\n      <td>1.0</td>\n      <td>1.0</td>\n      <td>7430.0</td>\n      <td>365</td>\n    </tr>\n    <tr>\n      <th>2</th>\n      <td>BU03630002</td>\n      <td>Burgwallen Oost</td>\n      <td>POLYGON ((4.89966 52.37468, 4.90002 52.37455, ...</td>\n      <td>POINT (4.89874 52.37282)</td>\n      <td>POINT (4.89875 52.37283)</td>\n      <td>1.0</td>\n      <td>1645</td>\n      <td>860</td>\n      <td>785</td>\n      <td>90</td>\n      <td>...</td>\n      <td>0.0</td>\n      <td>0.0</td>\n      <td>7</td>\n      <td>6</td>\n      <td>1</td>\n      <td>1012.0</td>\n      <td>1.0</td>\n      <td>1.0</td>\n      <td>7559.0</td>\n      <td>900</td>\n    </tr>\n    <tr>\n      <th>3</th>\n      <td>BU03630003</td>\n      <td>Nes e.o.</td>\n      <td>POLYGON ((4.89301 52.37271, 4.89331 52.37264, ...</td>\n      <td>POINT (4.89371 52.37086)</td>\n      <td>POINT (4.89423 52.37094)</td>\n      <td>1.0</td>\n      <td>365</td>\n      <td>200</td>\n      <td>165</td>\n      <td>25</td>\n      <td>...</td>\n      <td>0.0</td>\n      <td>0.0</td>\n      <td>6</td>\n      <td>5</td>\n      <td>0</td>\n      <td>1012.0</td>\n      <td>1.0</td>\n      <td>1.0</td>\n      <td>9947.0</td>\n      <td>185</td>\n    </tr>\n    <tr>\n      <th>4</th>\n      <td>BU03630004</td>\n      <td>BG-terrein e.o.</td>\n      <td>POLYGON ((4.89613 52.37177, 4.89670 52.37157, ...</td>\n      <td>POINT (4.89558 52.36954)</td>\n      <td>POINT (4.89588 52.36999)</td>\n      <td>1.0</td>\n      <td>690</td>\n      <td>380</td>\n      <td>310</td>\n      <td>40</td>\n      <td>...</td>\n      <td>0.0</td>\n      <td>0.0</td>\n      <td>10</td>\n      <td>8</td>\n      <td>2</td>\n      <td>1012.0</td>\n      <td>1.0</td>\n      <td>1.0</td>\n      <td>8489.0</td>\n      <td>295</td>\n    </tr>\n    <tr>\n      <th>...</th>\n      <td>...</td>\n      <td>...</td>\n      <td>...</td>\n      <td>...</td>\n      <td>...</td>\n      <td>...</td>\n      <td>...</td>\n      <td>...</td>\n      <td>...</td>\n      <td>...</td>\n      <td>...</td>\n      <td>...</td>\n      <td>...</td>\n      <td>...</td>\n      <td>...</td>\n      <td>...</td>\n      <td>...</td>\n      <td>...</td>\n      <td>...</td>\n      <td>...</td>\n      <td>...</td>\n    </tr>\n    <tr>\n      <th>443</th>\n      <td>BU03639701</td>\n      <td>Gein Zuidwest</td>\n      <td>POLYGON ((4.98456 52.29633, 4.98508 52.29633, ...</td>\n      <td>POINT (4.98552 52.29461)</td>\n      <td>POINT (4.98511 52.29471)</td>\n      <td>1.0</td>\n      <td>1665</td>\n      <td>800</td>\n      <td>865</td>\n      <td>310</td>\n      <td>...</td>\n      <td>0.0</td>\n      <td>0.0</td>\n      <td>18</td>\n      <td>17</td>\n      <td>1</td>\n      <td>1107.0</td>\n      <td>1.0</td>\n      <td>1.0</td>\n      <td>2577.0</td>\n      <td>1365</td>\n    </tr>\n    <tr>\n      <th>444</th>\n      <td>BU03639702</td>\n      <td>Gein Noordoost</td>\n      <td>POLYGON ((4.99197 52.30193, 4.99202 52.30192, ...</td>\n      <td>POINT (4.99734 52.29917)</td>\n      <td>POINT (4.99445 52.29913)</td>\n      <td>1.0</td>\n      <td>3245</td>\n      <td>1650</td>\n      <td>1595</td>\n      <td>450</td>\n      <td>...</td>\n      <td>0.0</td>\n      <td>0.0</td>\n      <td>65</td>\n      <td>64</td>\n      <td>1</td>\n      <td>1106.0</td>\n      <td>1.0</td>\n      <td>2.0</td>\n      <td>1576.0</td>\n      <td>1565</td>\n    </tr>\n    <tr>\n      <th>445</th>\n      <td>BU03639703</td>\n      <td>Gein Zuidoost</td>\n      <td>POLYGON ((5.00325 52.29639, 5.00325 52.29637, ...</td>\n      <td>POINT (4.99338 52.29279)</td>\n      <td>POINT (4.99021 52.29315)</td>\n      <td>1.0</td>\n      <td>3355</td>\n      <td>1635</td>\n      <td>1715</td>\n      <td>510</td>\n      <td>...</td>\n      <td>0.0</td>\n      <td>0.0</td>\n      <td>77</td>\n      <td>72</td>\n      <td>6</td>\n      <td>1107.0</td>\n      <td>1.0</td>\n      <td>2.0</td>\n      <td>1868.0</td>\n      <td>2115</td>\n    </tr>\n    <tr>\n      <th>446</th>\n      <td>BU03639800</td>\n      <td>Dorp Driemond</td>\n      <td>POLYGON ((5.01377 52.30914, 5.01408 52.30907, ...</td>\n      <td>POINT (5.01654 52.30563)</td>\n      <td>POINT (5.01649 52.30562)</td>\n      <td>1.0</td>\n      <td>1480</td>\n      <td>700</td>\n      <td>780</td>\n      <td>265</td>\n      <td>...</td>\n      <td>0.0</td>\n      <td>0.0</td>\n      <td>35</td>\n      <td>29</td>\n      <td>6</td>\n      <td>1109.0</td>\n      <td>1.0</td>\n      <td>5.0</td>\n      <td>439.0</td>\n      <td>335</td>\n    </tr>\n    <tr>\n      <th>447</th>\n      <td>BU03639801</td>\n      <td>Landelijk gebied Driemond</td>\n      <td>POLYGON ((5.01618 52.32448, 5.01621 52.32444, ...</td>\n      <td>POINT (5.01124 52.31478)</td>\n      <td>POINT (5.01314 52.30975)</td>\n      <td>1.0</td>\n      <td>140</td>\n      <td>75</td>\n      <td>60</td>\n      <td>45</td>\n      <td>...</td>\n      <td>0.0</td>\n      <td>0.0</td>\n      <td>167</td>\n      <td>146</td>\n      <td>21</td>\n      <td>1109.0</td>\n      <td>1.0</td>\n      <td>4.0</td>\n      <td>612.0</td>\n      <td>25</td>\n    </tr>\n  </tbody>\n</table>\n<p>448 rows × 119 columns</p>\n</div>"
     },
     "execution_count": 10,
     "metadata": {},
     "output_type": "execute_result"
    }
   ],
   "source": [
    "gdf = gpd.read_parquet(in_file)\n",
    "gdf"
   ]
  },
  {
   "cell_type": "markdown",
   "source": [],
   "metadata": {
    "collapsed": false,
    "pycharm": {
     "name": "#%% md\n"
    }
   }
  },
  {
   "cell_type": "code",
   "execution_count": 11,
   "metadata": {
    "collapsed": false,
    "jupyter": {
     "outputs_hidden": false
    },
    "pycharm": {
     "name": "#%%\n"
    }
   },
   "outputs": [
    {
     "name": "stderr",
     "output_type": "stream",
     "text": [
      "/home/rico/anaconda3/envs/eptnr-easm/lib/python3.9/site-packages/geopandas/geodataframe.py:1472: SettingWithCopyWarning: \n",
      "A value is trying to be set on a copy of a slice from a DataFrame.\n",
      "Try using .loc[row_indexer,col_indexer] = value instead\n",
      "\n",
      "See the caveats in the documentation: https://pandas.pydata.org/pandas-docs/stable/user_guide/indexing.html#returning-a-view-versus-a-copy\n",
      "  super().__setitem__(key, value)\n"
     ]
    },
    {
     "data": {
      "text/plain": "                       BU_NAAM  \\\n0                  Kop Zeedijk   \n1               Oude Kerk e.o.   \n2              Burgwallen Oost   \n3                     Nes e.o.   \n4              BG-terrein e.o.   \n..                         ...   \n443              Gein Zuidwest   \n444             Gein Noordoost   \n445              Gein Zuidoost   \n446              Dorp Driemond   \n447  Landelijk gebied Driemond   \n\n                                              geometry  \\\n0    POLYGON ((4.90096 52.37724, 4.90195 52.37724, ...   \n1    POLYGON ((4.89651 52.37575, 4.89707 52.37550, ...   \n2    POLYGON ((4.89966 52.37468, 4.90002 52.37455, ...   \n3    POLYGON ((4.89301 52.37271, 4.89331 52.37264, ...   \n4    POLYGON ((4.89613 52.37177, 4.89670 52.37157, ...   \n..                                                 ...   \n443  POLYGON ((4.98456 52.29633, 4.98508 52.29633, ...   \n444  POLYGON ((4.99197 52.30193, 4.99202 52.30192, ...   \n445  POLYGON ((5.00325 52.29639, 5.00325 52.29637, ...   \n446  POLYGON ((5.01377 52.30914, 5.01408 52.30907, ...   \n447  POLYGON ((5.01618 52.32448, 5.01621 52.32444, ...   \n\n                 res_centroid  a_w_all  a_nw_all  n_inh  \n0    POINT (4.90009 52.37552)      390       210   1110  \n1    POINT (4.89678 52.37375)      245       120    695  \n2    POINT (4.89875 52.37283)      560       340   1645  \n3    POINT (4.89423 52.37094)      140        45    365  \n4    POINT (4.89588 52.36999)      190       105    690  \n..                        ...      ...       ...    ...  \n443  POINT (4.98511 52.29471)      165      1200   1665  \n444  POINT (4.99445 52.29913)      455      1110   3245  \n445  POINT (4.99021 52.29315)      380      1735   3355  \n446  POINT (5.01649 52.30562)      150       185   1480  \n447  POINT (5.01314 52.30975)       15        10    140  \n\n[448 rows x 6 columns]",
      "text/html": "<div>\n<style scoped>\n    .dataframe tbody tr th:only-of-type {\n        vertical-align: middle;\n    }\n\n    .dataframe tbody tr th {\n        vertical-align: top;\n    }\n\n    .dataframe thead th {\n        text-align: right;\n    }\n</style>\n<table border=\"1\" class=\"dataframe\">\n  <thead>\n    <tr style=\"text-align: right;\">\n      <th></th>\n      <th>BU_NAAM</th>\n      <th>geometry</th>\n      <th>res_centroid</th>\n      <th>a_w_all</th>\n      <th>a_nw_all</th>\n      <th>n_inh</th>\n    </tr>\n  </thead>\n  <tbody>\n    <tr>\n      <th>0</th>\n      <td>Kop Zeedijk</td>\n      <td>POLYGON ((4.90096 52.37724, 4.90195 52.37724, ...</td>\n      <td>POINT (4.90009 52.37552)</td>\n      <td>390</td>\n      <td>210</td>\n      <td>1110</td>\n    </tr>\n    <tr>\n      <th>1</th>\n      <td>Oude Kerk e.o.</td>\n      <td>POLYGON ((4.89651 52.37575, 4.89707 52.37550, ...</td>\n      <td>POINT (4.89678 52.37375)</td>\n      <td>245</td>\n      <td>120</td>\n      <td>695</td>\n    </tr>\n    <tr>\n      <th>2</th>\n      <td>Burgwallen Oost</td>\n      <td>POLYGON ((4.89966 52.37468, 4.90002 52.37455, ...</td>\n      <td>POINT (4.89875 52.37283)</td>\n      <td>560</td>\n      <td>340</td>\n      <td>1645</td>\n    </tr>\n    <tr>\n      <th>3</th>\n      <td>Nes e.o.</td>\n      <td>POLYGON ((4.89301 52.37271, 4.89331 52.37264, ...</td>\n      <td>POINT (4.89423 52.37094)</td>\n      <td>140</td>\n      <td>45</td>\n      <td>365</td>\n    </tr>\n    <tr>\n      <th>4</th>\n      <td>BG-terrein e.o.</td>\n      <td>POLYGON ((4.89613 52.37177, 4.89670 52.37157, ...</td>\n      <td>POINT (4.89588 52.36999)</td>\n      <td>190</td>\n      <td>105</td>\n      <td>690</td>\n    </tr>\n    <tr>\n      <th>...</th>\n      <td>...</td>\n      <td>...</td>\n      <td>...</td>\n      <td>...</td>\n      <td>...</td>\n      <td>...</td>\n    </tr>\n    <tr>\n      <th>443</th>\n      <td>Gein Zuidwest</td>\n      <td>POLYGON ((4.98456 52.29633, 4.98508 52.29633, ...</td>\n      <td>POINT (4.98511 52.29471)</td>\n      <td>165</td>\n      <td>1200</td>\n      <td>1665</td>\n    </tr>\n    <tr>\n      <th>444</th>\n      <td>Gein Noordoost</td>\n      <td>POLYGON ((4.99197 52.30193, 4.99202 52.30192, ...</td>\n      <td>POINT (4.99445 52.29913)</td>\n      <td>455</td>\n      <td>1110</td>\n      <td>3245</td>\n    </tr>\n    <tr>\n      <th>445</th>\n      <td>Gein Zuidoost</td>\n      <td>POLYGON ((5.00325 52.29639, 5.00325 52.29637, ...</td>\n      <td>POINT (4.99021 52.29315)</td>\n      <td>380</td>\n      <td>1735</td>\n      <td>3355</td>\n    </tr>\n    <tr>\n      <th>446</th>\n      <td>Dorp Driemond</td>\n      <td>POLYGON ((5.01377 52.30914, 5.01408 52.30907, ...</td>\n      <td>POINT (5.01649 52.30562)</td>\n      <td>150</td>\n      <td>185</td>\n      <td>1480</td>\n    </tr>\n    <tr>\n      <th>447</th>\n      <td>Landelijk gebied Driemond</td>\n      <td>POLYGON ((5.01618 52.32448, 5.01621 52.32444, ...</td>\n      <td>POINT (5.01314 52.30975)</td>\n      <td>15</td>\n      <td>10</td>\n      <td>140</td>\n    </tr>\n  </tbody>\n</table>\n<p>448 rows × 6 columns</p>\n</div>"
     },
     "execution_count": 11,
     "metadata": {},
     "output_type": "execute_result"
    }
   ],
   "source": [
    "new_gdf = gdf[['BU_NAAM', 'geometry', 'res_centroid', 'a_inw', 'a_w_all', 'a_nw_all']]\n",
    "new_gdf['n_inh'] = new_gdf['a_inw']\n",
    "del new_gdf['a_inw']\n",
    "new_gdf"
   ]
  },
  {
   "cell_type": "code",
   "execution_count": 12,
   "metadata": {
    "collapsed": false,
    "jupyter": {
     "outputs_hidden": false
    },
    "pycharm": {
     "name": "#%%\n"
    }
   },
   "outputs": [],
   "source": [
    "# Fix Frankendael where there are 10 residents but none with western/non-western migration background.\n",
    "# Assigned western background\n",
    "new_gdf.loc[new_gdf['BU_NAAM']=='Frankendael','a_w_all'] = new_gdf[new_gdf['BU_NAAM']=='Frankendael']['n_inh']"
   ]
  },
  {
   "cell_type": "code",
   "execution_count": 13,
   "metadata": {
    "collapsed": false,
    "jupyter": {
     "outputs_hidden": false
    },
    "pycharm": {
     "name": "#%%\n"
    }
   },
   "outputs": [
    {
     "name": "stderr",
     "output_type": "stream",
     "text": [
      "/home/rico/anaconda3/envs/eptnr-easm/lib/python3.9/site-packages/geopandas/geodataframe.py:1472: SettingWithCopyWarning: \n",
      "A value is trying to be set on a copy of a slice from a DataFrame.\n",
      "Try using .loc[row_indexer,col_indexer] = value instead\n",
      "\n",
      "See the caveats in the documentation: https://pandas.pydata.org/pandas-docs/stable/user_guide/indexing.html#returning-a-view-versus-a-copy\n",
      "  super().__setitem__(key, value)\n",
      "/home/rico/anaconda3/envs/eptnr-easm/lib/python3.9/site-packages/geopandas/geodataframe.py:1472: SettingWithCopyWarning: \n",
      "A value is trying to be set on a copy of a slice from a DataFrame.\n",
      "Try using .loc[row_indexer,col_indexer] = value instead\n",
      "\n",
      "See the caveats in the documentation: https://pandas.pydata.org/pandas-docs/stable/user_guide/indexing.html#returning-a-view-versus-a-copy\n",
      "  super().__setitem__(key, value)\n"
     ]
    },
    {
     "data": {
      "text/plain": "                       BU_NAAM  \\\n0                  Kop Zeedijk   \n1               Oude Kerk e.o.   \n2              Burgwallen Oost   \n3                     Nes e.o.   \n4              BG-terrein e.o.   \n..                         ...   \n443              Gein Zuidwest   \n444             Gein Noordoost   \n445              Gein Zuidoost   \n446              Dorp Driemond   \n447  Landelijk gebied Driemond   \n\n                                              geometry  \\\n0    POLYGON ((4.90096 52.37724, 4.90195 52.37724, ...   \n1    POLYGON ((4.89651 52.37575, 4.89707 52.37550, ...   \n2    POLYGON ((4.89966 52.37468, 4.90002 52.37455, ...   \n3    POLYGON ((4.89301 52.37271, 4.89331 52.37264, ...   \n4    POLYGON ((4.89613 52.37177, 4.89670 52.37157, ...   \n..                                                 ...   \n443  POLYGON ((4.98456 52.29633, 4.98508 52.29633, ...   \n444  POLYGON ((4.99197 52.30193, 4.99202 52.30192, ...   \n445  POLYGON ((5.00325 52.29639, 5.00325 52.29637, ...   \n446  POLYGON ((5.01377 52.30914, 5.01408 52.30907, ...   \n447  POLYGON ((5.01618 52.32448, 5.01621 52.32444, ...   \n\n                 res_centroid  a_w_all  a_nw_all  n_inh   n_w  n_nw  \n0    POINT (4.90009 52.37552)      390       210   1110   721   389  \n1    POINT (4.89678 52.37375)      245       120    695   466   229  \n2    POINT (4.89875 52.37283)      560       340   1645  1023   622  \n3    POINT (4.89423 52.37094)      140        45    365   276    89  \n4    POINT (4.89588 52.36999)      190       105    690   444   246  \n..                        ...      ...       ...    ...   ...   ...  \n443  POINT (4.98511 52.29471)      165      1200   1665   201  1464  \n444  POINT (4.99445 52.29913)      455      1110   3245   943  2302  \n445  POINT (4.99021 52.29315)      380      1735   3355   602  2753  \n446  POINT (5.01649 52.30562)      150       185   1480   662   818  \n447  POINT (5.01314 52.30975)       15        10    140    84    56  \n\n[448 rows x 8 columns]",
      "text/html": "<div>\n<style scoped>\n    .dataframe tbody tr th:only-of-type {\n        vertical-align: middle;\n    }\n\n    .dataframe tbody tr th {\n        vertical-align: top;\n    }\n\n    .dataframe thead th {\n        text-align: right;\n    }\n</style>\n<table border=\"1\" class=\"dataframe\">\n  <thead>\n    <tr style=\"text-align: right;\">\n      <th></th>\n      <th>BU_NAAM</th>\n      <th>geometry</th>\n      <th>res_centroid</th>\n      <th>a_w_all</th>\n      <th>a_nw_all</th>\n      <th>n_inh</th>\n      <th>n_w</th>\n      <th>n_nw</th>\n    </tr>\n  </thead>\n  <tbody>\n    <tr>\n      <th>0</th>\n      <td>Kop Zeedijk</td>\n      <td>POLYGON ((4.90096 52.37724, 4.90195 52.37724, ...</td>\n      <td>POINT (4.90009 52.37552)</td>\n      <td>390</td>\n      <td>210</td>\n      <td>1110</td>\n      <td>721</td>\n      <td>389</td>\n    </tr>\n    <tr>\n      <th>1</th>\n      <td>Oude Kerk e.o.</td>\n      <td>POLYGON ((4.89651 52.37575, 4.89707 52.37550, ...</td>\n      <td>POINT (4.89678 52.37375)</td>\n      <td>245</td>\n      <td>120</td>\n      <td>695</td>\n      <td>466</td>\n      <td>229</td>\n    </tr>\n    <tr>\n      <th>2</th>\n      <td>Burgwallen Oost</td>\n      <td>POLYGON ((4.89966 52.37468, 4.90002 52.37455, ...</td>\n      <td>POINT (4.89875 52.37283)</td>\n      <td>560</td>\n      <td>340</td>\n      <td>1645</td>\n      <td>1023</td>\n      <td>622</td>\n    </tr>\n    <tr>\n      <th>3</th>\n      <td>Nes e.o.</td>\n      <td>POLYGON ((4.89301 52.37271, 4.89331 52.37264, ...</td>\n      <td>POINT (4.89423 52.37094)</td>\n      <td>140</td>\n      <td>45</td>\n      <td>365</td>\n      <td>276</td>\n      <td>89</td>\n    </tr>\n    <tr>\n      <th>4</th>\n      <td>BG-terrein e.o.</td>\n      <td>POLYGON ((4.89613 52.37177, 4.89670 52.37157, ...</td>\n      <td>POINT (4.89588 52.36999)</td>\n      <td>190</td>\n      <td>105</td>\n      <td>690</td>\n      <td>444</td>\n      <td>246</td>\n    </tr>\n    <tr>\n      <th>...</th>\n      <td>...</td>\n      <td>...</td>\n      <td>...</td>\n      <td>...</td>\n      <td>...</td>\n      <td>...</td>\n      <td>...</td>\n      <td>...</td>\n    </tr>\n    <tr>\n      <th>443</th>\n      <td>Gein Zuidwest</td>\n      <td>POLYGON ((4.98456 52.29633, 4.98508 52.29633, ...</td>\n      <td>POINT (4.98511 52.29471)</td>\n      <td>165</td>\n      <td>1200</td>\n      <td>1665</td>\n      <td>201</td>\n      <td>1464</td>\n    </tr>\n    <tr>\n      <th>444</th>\n      <td>Gein Noordoost</td>\n      <td>POLYGON ((4.99197 52.30193, 4.99202 52.30192, ...</td>\n      <td>POINT (4.99445 52.29913)</td>\n      <td>455</td>\n      <td>1110</td>\n      <td>3245</td>\n      <td>943</td>\n      <td>2302</td>\n    </tr>\n    <tr>\n      <th>445</th>\n      <td>Gein Zuidoost</td>\n      <td>POLYGON ((5.00325 52.29639, 5.00325 52.29637, ...</td>\n      <td>POINT (4.99021 52.29315)</td>\n      <td>380</td>\n      <td>1735</td>\n      <td>3355</td>\n      <td>602</td>\n      <td>2753</td>\n    </tr>\n    <tr>\n      <th>446</th>\n      <td>Dorp Driemond</td>\n      <td>POLYGON ((5.01377 52.30914, 5.01408 52.30907, ...</td>\n      <td>POINT (5.01649 52.30562)</td>\n      <td>150</td>\n      <td>185</td>\n      <td>1480</td>\n      <td>662</td>\n      <td>818</td>\n    </tr>\n    <tr>\n      <th>447</th>\n      <td>Landelijk gebied Driemond</td>\n      <td>POLYGON ((5.01618 52.32448, 5.01621 52.32444, ...</td>\n      <td>POINT (5.01314 52.30975)</td>\n      <td>15</td>\n      <td>10</td>\n      <td>140</td>\n      <td>84</td>\n      <td>56</td>\n    </tr>\n  </tbody>\n</table>\n<p>448 rows × 8 columns</p>\n</div>"
     },
     "execution_count": 13,
     "metadata": {},
     "output_type": "execute_result"
    }
   ],
   "source": [
    "new_gdf['n_w'] = new_gdf['n_inh'] * (new_gdf['a_w_all']/(new_gdf['a_w_all'] + new_gdf['a_nw_all']))\n",
    "new_gdf['n_w'] = new_gdf['n_w'].astype(int)\n",
    "new_gdf['n_nw'] = new_gdf['n_inh'] - new_gdf['n_w']\n",
    "\n",
    "new_gdf"
   ]
  },
  {
   "cell_type": "code",
   "execution_count": 14,
   "outputs": [
    {
     "name": "stderr",
     "output_type": "stream",
     "text": [
      "/home/rico/anaconda3/envs/eptnr-easm/lib/python3.9/site-packages/geopandas/geodataframe.py:1472: SettingWithCopyWarning: \n",
      "A value is trying to be set on a copy of a slice from a DataFrame.\n",
      "Try using .loc[row_indexer,col_indexer] = value instead\n",
      "\n",
      "See the caveats in the documentation: https://pandas.pydata.org/pandas-docs/stable/user_guide/indexing.html#returning-a-view-versus-a-copy\n",
      "  super().__setitem__(key, value)\n"
     ]
    },
    {
     "data": {
      "text/plain": "                                              geometry  \\\n0    POLYGON ((4.90096 52.37724, 4.90195 52.37724, ...   \n1    POLYGON ((4.89651 52.37575, 4.89707 52.37550, ...   \n2    POLYGON ((4.89966 52.37468, 4.90002 52.37455, ...   \n3    POLYGON ((4.89301 52.37271, 4.89331 52.37264, ...   \n4    POLYGON ((4.89613 52.37177, 4.89670 52.37157, ...   \n..                                                 ...   \n443  POLYGON ((4.98456 52.29633, 4.98508 52.29633, ...   \n444  POLYGON ((4.99197 52.30193, 4.99202 52.30192, ...   \n445  POLYGON ((5.00325 52.29639, 5.00325 52.29637, ...   \n446  POLYGON ((5.01377 52.30914, 5.01408 52.30907, ...   \n447  POLYGON ((5.01618 52.32448, 5.01621 52.32444, ...   \n\n                 res_centroid  n_inh   n_w  n_nw                          name  \n0    POINT (4.90009 52.37552)   1110   721   389                RC_Kop Zeedijk  \n1    POINT (4.89678 52.37375)    695   466   229             RC_Oude Kerk e.o.  \n2    POINT (4.89875 52.37283)   1645  1023   622            RC_Burgwallen Oost  \n3    POINT (4.89423 52.37094)    365   276    89                   RC_Nes e.o.  \n4    POINT (4.89588 52.36999)    690   444   246            RC_BG-terrein e.o.  \n..                        ...    ...   ...   ...                           ...  \n443  POINT (4.98511 52.29471)   1665   201  1464              RC_Gein Zuidwest  \n444  POINT (4.99445 52.29913)   3245   943  2302             RC_Gein Noordoost  \n445  POINT (4.99021 52.29315)   3355   602  2753              RC_Gein Zuidoost  \n446  POINT (5.01649 52.30562)   1480   662   818              RC_Dorp Driemond  \n447  POINT (5.01314 52.30975)    140    84    56  RC_Landelijk gebied Driemond  \n\n[448 rows x 6 columns]",
      "text/html": "<div>\n<style scoped>\n    .dataframe tbody tr th:only-of-type {\n        vertical-align: middle;\n    }\n\n    .dataframe tbody tr th {\n        vertical-align: top;\n    }\n\n    .dataframe thead th {\n        text-align: right;\n    }\n</style>\n<table border=\"1\" class=\"dataframe\">\n  <thead>\n    <tr style=\"text-align: right;\">\n      <th></th>\n      <th>geometry</th>\n      <th>res_centroid</th>\n      <th>n_inh</th>\n      <th>n_w</th>\n      <th>n_nw</th>\n      <th>name</th>\n    </tr>\n  </thead>\n  <tbody>\n    <tr>\n      <th>0</th>\n      <td>POLYGON ((4.90096 52.37724, 4.90195 52.37724, ...</td>\n      <td>POINT (4.90009 52.37552)</td>\n      <td>1110</td>\n      <td>721</td>\n      <td>389</td>\n      <td>RC_Kop Zeedijk</td>\n    </tr>\n    <tr>\n      <th>1</th>\n      <td>POLYGON ((4.89651 52.37575, 4.89707 52.37550, ...</td>\n      <td>POINT (4.89678 52.37375)</td>\n      <td>695</td>\n      <td>466</td>\n      <td>229</td>\n      <td>RC_Oude Kerk e.o.</td>\n    </tr>\n    <tr>\n      <th>2</th>\n      <td>POLYGON ((4.89966 52.37468, 4.90002 52.37455, ...</td>\n      <td>POINT (4.89875 52.37283)</td>\n      <td>1645</td>\n      <td>1023</td>\n      <td>622</td>\n      <td>RC_Burgwallen Oost</td>\n    </tr>\n    <tr>\n      <th>3</th>\n      <td>POLYGON ((4.89301 52.37271, 4.89331 52.37264, ...</td>\n      <td>POINT (4.89423 52.37094)</td>\n      <td>365</td>\n      <td>276</td>\n      <td>89</td>\n      <td>RC_Nes e.o.</td>\n    </tr>\n    <tr>\n      <th>4</th>\n      <td>POLYGON ((4.89613 52.37177, 4.89670 52.37157, ...</td>\n      <td>POINT (4.89588 52.36999)</td>\n      <td>690</td>\n      <td>444</td>\n      <td>246</td>\n      <td>RC_BG-terrein e.o.</td>\n    </tr>\n    <tr>\n      <th>...</th>\n      <td>...</td>\n      <td>...</td>\n      <td>...</td>\n      <td>...</td>\n      <td>...</td>\n      <td>...</td>\n    </tr>\n    <tr>\n      <th>443</th>\n      <td>POLYGON ((4.98456 52.29633, 4.98508 52.29633, ...</td>\n      <td>POINT (4.98511 52.29471)</td>\n      <td>1665</td>\n      <td>201</td>\n      <td>1464</td>\n      <td>RC_Gein Zuidwest</td>\n    </tr>\n    <tr>\n      <th>444</th>\n      <td>POLYGON ((4.99197 52.30193, 4.99202 52.30192, ...</td>\n      <td>POINT (4.99445 52.29913)</td>\n      <td>3245</td>\n      <td>943</td>\n      <td>2302</td>\n      <td>RC_Gein Noordoost</td>\n    </tr>\n    <tr>\n      <th>445</th>\n      <td>POLYGON ((5.00325 52.29639, 5.00325 52.29637, ...</td>\n      <td>POINT (4.99021 52.29315)</td>\n      <td>3355</td>\n      <td>602</td>\n      <td>2753</td>\n      <td>RC_Gein Zuidoost</td>\n    </tr>\n    <tr>\n      <th>446</th>\n      <td>POLYGON ((5.01377 52.30914, 5.01408 52.30907, ...</td>\n      <td>POINT (5.01649 52.30562)</td>\n      <td>1480</td>\n      <td>662</td>\n      <td>818</td>\n      <td>RC_Dorp Driemond</td>\n    </tr>\n    <tr>\n      <th>447</th>\n      <td>POLYGON ((5.01618 52.32448, 5.01621 52.32444, ...</td>\n      <td>POINT (5.01314 52.30975)</td>\n      <td>140</td>\n      <td>84</td>\n      <td>56</td>\n      <td>RC_Landelijk gebied Driemond</td>\n    </tr>\n  </tbody>\n</table>\n<p>448 rows × 6 columns</p>\n</div>"
     },
     "execution_count": 14,
     "metadata": {},
     "output_type": "execute_result"
    }
   ],
   "source": [
    "del new_gdf['a_w_all']\n",
    "del new_gdf['a_nw_all']\n",
    "new_gdf['name'] = new_gdf['BU_NAAM']\n",
    "new_gdf['name'] = new_gdf['name'].apply(lambda x: 'RC_' + x)\n",
    "del new_gdf['BU_NAAM']\n",
    "new_gdf"
   ],
   "metadata": {
    "collapsed": false,
    "pycharm": {
     "name": "#%%\n"
    }
   }
  },
  {
   "cell_type": "code",
   "execution_count": 15,
   "outputs": [],
   "source": [
    "new_gdf.to_parquet(out_file)"
   ],
   "metadata": {
    "collapsed": false,
    "pycharm": {
     "name": "#%%\n"
    }
   }
  }
 ],
 "metadata": {
  "kernelspec": {
   "display_name": "Python 3 (ipykernel)",
   "language": "python",
   "name": "python3"
  },
  "language_info": {
   "codemirror_mode": {
    "name": "ipython",
    "version": 3
   },
   "file_extension": ".py",
   "mimetype": "text/x-python",
   "name": "python",
   "nbconvert_exporter": "python",
   "pygments_lexer": "ipython3",
   "version": "3.9.16"
  }
 },
 "nbformat": 4,
 "nbformat_minor": 4
}